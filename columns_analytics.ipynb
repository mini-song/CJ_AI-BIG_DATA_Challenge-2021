{
 "cells": [
  {
   "cell_type": "code",
   "execution_count": 2,
   "metadata": {
    "ExecuteTime": {
     "end_time": "2021-10-07T12:43:10.287077Z",
     "start_time": "2021-10-07T12:43:01.619249Z"
    }
   },
   "outputs": [],
   "source": [
    "import pandas as pd"
   ]
  },
  {
   "cell_type": "code",
   "execution_count": 4,
   "metadata": {
    "ExecuteTime": {
     "end_time": "2021-10-07T13:30:40.669369Z",
     "start_time": "2021-10-07T13:08:10.464457Z"
    }
   },
   "outputs": [
    {
     "ename": "FileNotFoundError",
     "evalue": "[Errno 2] No such file or directory: './1. 이커머스 FC주문 데이터/1-4. 이커머스 FC주문 데이터_6월.xlsx'",
     "output_type": "error",
     "traceback": [
      "\u001b[1;31m---------------------------------------------------------------------------\u001b[0m",
      "\u001b[1;31mFileNotFoundError\u001b[0m                         Traceback (most recent call last)",
      "\u001b[1;32m<ipython-input-4-65a1a8b6b820>\u001b[0m in \u001b[0;36m<module>\u001b[1;34m\u001b[0m\n\u001b[0;32m      2\u001b[0m \u001b[0mdf_4\u001b[0m \u001b[1;33m=\u001b[0m \u001b[0mpd\u001b[0m\u001b[1;33m.\u001b[0m\u001b[0mread_excel\u001b[0m\u001b[1;33m(\u001b[0m\u001b[1;34m'./1. 이커머스 FC주문 데이터/1-2. 이커머스 FC주문 데이터_4월.xlsx'\u001b[0m\u001b[1;33m)\u001b[0m\u001b[1;33m\u001b[0m\u001b[1;33m\u001b[0m\u001b[0m\n\u001b[0;32m      3\u001b[0m \u001b[0mdf_5\u001b[0m \u001b[1;33m=\u001b[0m \u001b[0mpd\u001b[0m\u001b[1;33m.\u001b[0m\u001b[0mread_excel\u001b[0m\u001b[1;33m(\u001b[0m\u001b[1;34m'./1. 이커머스 FC주문 데이터/1-3. 이커머스 FC주문 데이터_5월.xlsx'\u001b[0m\u001b[1;33m)\u001b[0m\u001b[1;33m\u001b[0m\u001b[1;33m\u001b[0m\u001b[0m\n\u001b[1;32m----> 4\u001b[1;33m \u001b[0mdf_6\u001b[0m \u001b[1;33m=\u001b[0m \u001b[0mpd\u001b[0m\u001b[1;33m.\u001b[0m\u001b[0mread_excel\u001b[0m\u001b[1;33m(\u001b[0m\u001b[1;34m'./1. 이커머스 FC주문 데이터/1-4. 이커머스 FC주문 데이터_6월.xlsx'\u001b[0m\u001b[1;33m)\u001b[0m\u001b[1;33m\u001b[0m\u001b[1;33m\u001b[0m\u001b[0m\n\u001b[0m",
      "\u001b[1;32mc:\\users\\minisong\\appdata\\local\\programs\\python\\python37\\lib\\site-packages\\pandas\\util\\_decorators.py\u001b[0m in \u001b[0;36mwrapper\u001b[1;34m(*args, **kwargs)\u001b[0m\n\u001b[0;32m    297\u001b[0m                 )\n\u001b[0;32m    298\u001b[0m                 \u001b[0mwarnings\u001b[0m\u001b[1;33m.\u001b[0m\u001b[0mwarn\u001b[0m\u001b[1;33m(\u001b[0m\u001b[0mmsg\u001b[0m\u001b[1;33m,\u001b[0m \u001b[0mFutureWarning\u001b[0m\u001b[1;33m,\u001b[0m \u001b[0mstacklevel\u001b[0m\u001b[1;33m=\u001b[0m\u001b[0mstacklevel\u001b[0m\u001b[1;33m)\u001b[0m\u001b[1;33m\u001b[0m\u001b[1;33m\u001b[0m\u001b[0m\n\u001b[1;32m--> 299\u001b[1;33m             \u001b[1;32mreturn\u001b[0m \u001b[0mfunc\u001b[0m\u001b[1;33m(\u001b[0m\u001b[1;33m*\u001b[0m\u001b[0margs\u001b[0m\u001b[1;33m,\u001b[0m \u001b[1;33m**\u001b[0m\u001b[0mkwargs\u001b[0m\u001b[1;33m)\u001b[0m\u001b[1;33m\u001b[0m\u001b[1;33m\u001b[0m\u001b[0m\n\u001b[0m\u001b[0;32m    300\u001b[0m \u001b[1;33m\u001b[0m\u001b[0m\n\u001b[0;32m    301\u001b[0m         \u001b[1;32mreturn\u001b[0m \u001b[0mwrapper\u001b[0m\u001b[1;33m\u001b[0m\u001b[1;33m\u001b[0m\u001b[0m\n",
      "\u001b[1;32mc:\\users\\minisong\\appdata\\local\\programs\\python\\python37\\lib\\site-packages\\pandas\\io\\excel\\_base.py\u001b[0m in \u001b[0;36mread_excel\u001b[1;34m(io, sheet_name, header, names, index_col, usecols, squeeze, dtype, engine, converters, true_values, false_values, skiprows, nrows, na_values, keep_default_na, na_filter, verbose, parse_dates, date_parser, thousands, comment, skipfooter, convert_float, mangle_dupe_cols, storage_options)\u001b[0m\n\u001b[0;32m    334\u001b[0m     \u001b[1;32mif\u001b[0m \u001b[1;32mnot\u001b[0m \u001b[0misinstance\u001b[0m\u001b[1;33m(\u001b[0m\u001b[0mio\u001b[0m\u001b[1;33m,\u001b[0m \u001b[0mExcelFile\u001b[0m\u001b[1;33m)\u001b[0m\u001b[1;33m:\u001b[0m\u001b[1;33m\u001b[0m\u001b[1;33m\u001b[0m\u001b[0m\n\u001b[0;32m    335\u001b[0m         \u001b[0mshould_close\u001b[0m \u001b[1;33m=\u001b[0m \u001b[1;32mTrue\u001b[0m\u001b[1;33m\u001b[0m\u001b[1;33m\u001b[0m\u001b[0m\n\u001b[1;32m--> 336\u001b[1;33m         \u001b[0mio\u001b[0m \u001b[1;33m=\u001b[0m \u001b[0mExcelFile\u001b[0m\u001b[1;33m(\u001b[0m\u001b[0mio\u001b[0m\u001b[1;33m,\u001b[0m \u001b[0mstorage_options\u001b[0m\u001b[1;33m=\u001b[0m\u001b[0mstorage_options\u001b[0m\u001b[1;33m,\u001b[0m \u001b[0mengine\u001b[0m\u001b[1;33m=\u001b[0m\u001b[0mengine\u001b[0m\u001b[1;33m)\u001b[0m\u001b[1;33m\u001b[0m\u001b[1;33m\u001b[0m\u001b[0m\n\u001b[0m\u001b[0;32m    337\u001b[0m     \u001b[1;32melif\u001b[0m \u001b[0mengine\u001b[0m \u001b[1;32mand\u001b[0m \u001b[0mengine\u001b[0m \u001b[1;33m!=\u001b[0m \u001b[0mio\u001b[0m\u001b[1;33m.\u001b[0m\u001b[0mengine\u001b[0m\u001b[1;33m:\u001b[0m\u001b[1;33m\u001b[0m\u001b[1;33m\u001b[0m\u001b[0m\n\u001b[0;32m    338\u001b[0m         raise ValueError(\n",
      "\u001b[1;32mc:\\users\\minisong\\appdata\\local\\programs\\python\\python37\\lib\\site-packages\\pandas\\io\\excel\\_base.py\u001b[0m in \u001b[0;36m__init__\u001b[1;34m(self, path_or_buffer, engine, storage_options)\u001b[0m\n\u001b[0;32m   1061\u001b[0m             \u001b[1;31m# path_or_buffer is path-like, use stringified path\u001b[0m\u001b[1;33m\u001b[0m\u001b[1;33m\u001b[0m\u001b[1;33m\u001b[0m\u001b[0m\n\u001b[0;32m   1062\u001b[0m             ext = inspect_excel_format(\n\u001b[1;32m-> 1063\u001b[1;33m                 \u001b[0mpath\u001b[0m\u001b[1;33m=\u001b[0m\u001b[0mstr\u001b[0m\u001b[1;33m(\u001b[0m\u001b[0mself\u001b[0m\u001b[1;33m.\u001b[0m\u001b[0m_io\u001b[0m\u001b[1;33m)\u001b[0m\u001b[1;33m,\u001b[0m \u001b[0mstorage_options\u001b[0m\u001b[1;33m=\u001b[0m\u001b[0mstorage_options\u001b[0m\u001b[1;33m\u001b[0m\u001b[1;33m\u001b[0m\u001b[0m\n\u001b[0m\u001b[0;32m   1064\u001b[0m             )\n\u001b[0;32m   1065\u001b[0m \u001b[1;33m\u001b[0m\u001b[0m\n",
      "\u001b[1;32mc:\\users\\minisong\\appdata\\local\\programs\\python\\python37\\lib\\site-packages\\pandas\\io\\excel\\_base.py\u001b[0m in \u001b[0;36minspect_excel_format\u001b[1;34m(path, content, storage_options)\u001b[0m\n\u001b[0;32m    937\u001b[0m \u001b[1;33m\u001b[0m\u001b[0m\n\u001b[0;32m    938\u001b[0m     with get_handle(\n\u001b[1;32m--> 939\u001b[1;33m         \u001b[0mcontent_or_path\u001b[0m\u001b[1;33m,\u001b[0m \u001b[1;34m\"rb\"\u001b[0m\u001b[1;33m,\u001b[0m \u001b[0mstorage_options\u001b[0m\u001b[1;33m=\u001b[0m\u001b[0mstorage_options\u001b[0m\u001b[1;33m,\u001b[0m \u001b[0mis_text\u001b[0m\u001b[1;33m=\u001b[0m\u001b[1;32mFalse\u001b[0m\u001b[1;33m\u001b[0m\u001b[1;33m\u001b[0m\u001b[0m\n\u001b[0m\u001b[0;32m    940\u001b[0m     ) as handle:\n\u001b[0;32m    941\u001b[0m         \u001b[0mstream\u001b[0m \u001b[1;33m=\u001b[0m \u001b[0mhandle\u001b[0m\u001b[1;33m.\u001b[0m\u001b[0mhandle\u001b[0m\u001b[1;33m\u001b[0m\u001b[1;33m\u001b[0m\u001b[0m\n",
      "\u001b[1;32mc:\\users\\minisong\\appdata\\local\\programs\\python\\python37\\lib\\site-packages\\pandas\\io\\common.py\u001b[0m in \u001b[0;36mget_handle\u001b[1;34m(path_or_buf, mode, encoding, compression, memory_map, is_text, errors, storage_options)\u001b[0m\n\u001b[0;32m    646\u001b[0m         \u001b[1;32melse\u001b[0m\u001b[1;33m:\u001b[0m\u001b[1;33m\u001b[0m\u001b[1;33m\u001b[0m\u001b[0m\n\u001b[0;32m    647\u001b[0m             \u001b[1;31m# Binary mode\u001b[0m\u001b[1;33m\u001b[0m\u001b[1;33m\u001b[0m\u001b[1;33m\u001b[0m\u001b[0m\n\u001b[1;32m--> 648\u001b[1;33m             \u001b[0mhandle\u001b[0m \u001b[1;33m=\u001b[0m \u001b[0mopen\u001b[0m\u001b[1;33m(\u001b[0m\u001b[0mhandle\u001b[0m\u001b[1;33m,\u001b[0m \u001b[0mioargs\u001b[0m\u001b[1;33m.\u001b[0m\u001b[0mmode\u001b[0m\u001b[1;33m)\u001b[0m\u001b[1;33m\u001b[0m\u001b[1;33m\u001b[0m\u001b[0m\n\u001b[0m\u001b[0;32m    649\u001b[0m         \u001b[0mhandles\u001b[0m\u001b[1;33m.\u001b[0m\u001b[0mappend\u001b[0m\u001b[1;33m(\u001b[0m\u001b[0mhandle\u001b[0m\u001b[1;33m)\u001b[0m\u001b[1;33m\u001b[0m\u001b[1;33m\u001b[0m\u001b[0m\n\u001b[0;32m    650\u001b[0m \u001b[1;33m\u001b[0m\u001b[0m\n",
      "\u001b[1;31mFileNotFoundError\u001b[0m: [Errno 2] No such file or directory: './1. 이커머스 FC주문 데이터/1-4. 이커머스 FC주문 데이터_6월.xlsx'"
     ]
    }
   ],
   "source": [
    "df_3 = pd.read_excel('./1. 이커머스 FC주문 데이터/1-2. 이커머스 FC주문 데이터_3월.xlsx')\n",
    "df_4 = pd.read_excel('./1. 이커머스 FC주문 데이터/1-2. 이커머스 FC주문 데이터_4월.xlsx')\n",
    "df_5 = pd.read_excel('./1. 이커머스 FC주문 데이터/1-3. 이커머스 FC주문 데이터_5월.xlsx')\n",
    "df_6 = pd.read_excel('./1. 이커머스 FC주문 데이터/1-4. 이커머스 FC주문 데이터_6월.xlsx')"
   ]
  },
  {
   "cell_type": "markdown",
   "metadata": {},
   "source": [
    "### 3월 -> 309,352 rows"
   ]
  },
  {
   "cell_type": "code",
   "execution_count": 23,
   "metadata": {
    "ExecuteTime": {
     "end_time": "2021-10-06T11:58:08.381149Z",
     "start_time": "2021-10-06T11:58:07.707950Z"
    }
   },
   "outputs": [
    {
     "data": {
      "text/html": [
       "<div>\n",
       "<style scoped>\n",
       "    .dataframe tbody tr th:only-of-type {\n",
       "        vertical-align: middle;\n",
       "    }\n",
       "\n",
       "    .dataframe tbody tr th {\n",
       "        vertical-align: top;\n",
       "    }\n",
       "\n",
       "    .dataframe thead th {\n",
       "        text-align: right;\n",
       "    }\n",
       "</style>\n",
       "<table border=\"1\" class=\"dataframe\">\n",
       "  <thead>\n",
       "    <tr style=\"text-align: right;\">\n",
       "      <th></th>\n",
       "      <th>CORP_ID</th>\n",
       "      <th>REF_ORD_NO</th>\n",
       "      <th>BKG_NO</th>\n",
       "      <th>BKG_TYP</th>\n",
       "      <th>BKG_DATE</th>\n",
       "      <th>BKG_TIME</th>\n",
       "      <th>SHPR_CD</th>\n",
       "      <th>INV_AMT</th>\n",
       "      <th>ITEM_SEQ</th>\n",
       "      <th>ITEM_CD</th>\n",
       "      <th>...</th>\n",
       "      <th>DLVSUBCLSFCD</th>\n",
       "      <th>INS_ID</th>\n",
       "      <th>INS_DATE</th>\n",
       "      <th>INS_TIME</th>\n",
       "      <th>POST_ZONE</th>\n",
       "      <th>SPLIT_EXEC_YN</th>\n",
       "      <th>SHPR_ADDR_1</th>\n",
       "      <th>SHPR_ADDR_2</th>\n",
       "      <th>CNEE_ADDR_1</th>\n",
       "      <th>CNEE_ADDR_2</th>\n",
       "    </tr>\n",
       "  </thead>\n",
       "  <tbody>\n",
       "    <tr>\n",
       "      <th>0</th>\n",
       "      <td>KX007</td>\n",
       "      <td>2021030365922551</td>\n",
       "      <td>KX007210303370934</td>\n",
       "      <td>7</td>\n",
       "      <td>20210303</td>\n",
       "      <td>35510</td>\n",
       "      <td>90001302</td>\n",
       "      <td>22400.0</td>\n",
       "      <td>2</td>\n",
       "      <td>134265392</td>\n",
       "      <td>...</td>\n",
       "      <td>1</td>\n",
       "      <td>iNEXBatch</td>\n",
       "      <td>20210303</td>\n",
       "      <td>131425</td>\n",
       "      <td>3.0</td>\n",
       "      <td>N</td>\n",
       "      <td>세종특별자치시</td>\n",
       "      <td>NaN</td>\n",
       "      <td>서울특별시</td>\n",
       "      <td>서대문구</td>\n",
       "    </tr>\n",
       "    <tr>\n",
       "      <th>1</th>\n",
       "      <td>KX007</td>\n",
       "      <td>2021030365922951</td>\n",
       "      <td>KX007210303371080</td>\n",
       "      <td>7</td>\n",
       "      <td>20210303</td>\n",
       "      <td>35521</td>\n",
       "      <td>90001441</td>\n",
       "      <td>20900.0</td>\n",
       "      <td>1</td>\n",
       "      <td>4610261043_2</td>\n",
       "      <td>...</td>\n",
       "      <td>4</td>\n",
       "      <td>iNEXBatch</td>\n",
       "      <td>20210303</td>\n",
       "      <td>131425</td>\n",
       "      <td>50.0</td>\n",
       "      <td>N</td>\n",
       "      <td>경기도</td>\n",
       "      <td>광주시</td>\n",
       "      <td>경상남도</td>\n",
       "      <td>김해시</td>\n",
       "    </tr>\n",
       "    <tr>\n",
       "      <th>2</th>\n",
       "      <td>KX007</td>\n",
       "      <td>2021030365924361</td>\n",
       "      <td>KX007210303371081</td>\n",
       "      <td>7</td>\n",
       "      <td>20210303</td>\n",
       "      <td>35513</td>\n",
       "      <td>90001441</td>\n",
       "      <td>37900.0</td>\n",
       "      <td>1</td>\n",
       "      <td>4936599538_1</td>\n",
       "      <td>...</td>\n",
       "      <td>0</td>\n",
       "      <td>iNEXBatch</td>\n",
       "      <td>20210303</td>\n",
       "      <td>131425</td>\n",
       "      <td>53.0</td>\n",
       "      <td>N</td>\n",
       "      <td>경기도</td>\n",
       "      <td>광주시</td>\n",
       "      <td>경상남도</td>\n",
       "      <td>거제시</td>\n",
       "    </tr>\n",
       "    <tr>\n",
       "      <th>3</th>\n",
       "      <td>KX007</td>\n",
       "      <td>2021030365928921</td>\n",
       "      <td>KX007210303371205</td>\n",
       "      <td>7</td>\n",
       "      <td>20210303</td>\n",
       "      <td>35608</td>\n",
       "      <td>90001542</td>\n",
       "      <td>69800.0</td>\n",
       "      <td>1</td>\n",
       "      <td>3858391637_1</td>\n",
       "      <td>...</td>\n",
       "      <td>1</td>\n",
       "      <td>iNEXBatch</td>\n",
       "      <td>20210303</td>\n",
       "      <td>131425</td>\n",
       "      <td>6.0</td>\n",
       "      <td>N</td>\n",
       "      <td>경기도</td>\n",
       "      <td>광주시</td>\n",
       "      <td>서울특별시</td>\n",
       "      <td>서초구</td>\n",
       "    </tr>\n",
       "    <tr>\n",
       "      <th>4</th>\n",
       "      <td>KX007</td>\n",
       "      <td>2021030365930451</td>\n",
       "      <td>KX007210303370967</td>\n",
       "      <td>7</td>\n",
       "      <td>20210303</td>\n",
       "      <td>35551</td>\n",
       "      <td>90001341</td>\n",
       "      <td>73700.0</td>\n",
       "      <td>1</td>\n",
       "      <td>4631307460</td>\n",
       "      <td>...</td>\n",
       "      <td>1</td>\n",
       "      <td>iNEXBatch</td>\n",
       "      <td>20210303</td>\n",
       "      <td>131425</td>\n",
       "      <td>10.0</td>\n",
       "      <td>N</td>\n",
       "      <td>경기도</td>\n",
       "      <td>광주시</td>\n",
       "      <td>경기도</td>\n",
       "      <td>김포시</td>\n",
       "    </tr>\n",
       "    <tr>\n",
       "      <th>...</th>\n",
       "      <td>...</td>\n",
       "      <td>...</td>\n",
       "      <td>...</td>\n",
       "      <td>...</td>\n",
       "      <td>...</td>\n",
       "      <td>...</td>\n",
       "      <td>...</td>\n",
       "      <td>...</td>\n",
       "      <td>...</td>\n",
       "      <td>...</td>\n",
       "      <td>...</td>\n",
       "      <td>...</td>\n",
       "      <td>...</td>\n",
       "      <td>...</td>\n",
       "      <td>...</td>\n",
       "      <td>...</td>\n",
       "      <td>...</td>\n",
       "      <td>...</td>\n",
       "      <td>...</td>\n",
       "      <td>...</td>\n",
       "      <td>...</td>\n",
       "    </tr>\n",
       "    <tr>\n",
       "      <th>309347</th>\n",
       "      <td>KX007</td>\n",
       "      <td>2021040163863411</td>\n",
       "      <td>KX007210401807629</td>\n",
       "      <td>7</td>\n",
       "      <td>20210331</td>\n",
       "      <td>235554</td>\n",
       "      <td>90001582</td>\n",
       "      <td>19500.0</td>\n",
       "      <td>1</td>\n",
       "      <td>161523952_5</td>\n",
       "      <td>...</td>\n",
       "      <td>2p</td>\n",
       "      <td>iNEXBatch</td>\n",
       "      <td>20210401</td>\n",
       "      <td>174255</td>\n",
       "      <td>46.0</td>\n",
       "      <td>N</td>\n",
       "      <td>경기도</td>\n",
       "      <td>안산시</td>\n",
       "      <td>부산광역시</td>\n",
       "      <td>북구</td>\n",
       "    </tr>\n",
       "    <tr>\n",
       "      <th>309348</th>\n",
       "      <td>KX007</td>\n",
       "      <td>2021040163894031</td>\n",
       "      <td>KX007210401807630</td>\n",
       "      <td>7</td>\n",
       "      <td>20210331</td>\n",
       "      <td>235800</td>\n",
       "      <td>90001582</td>\n",
       "      <td>43600.0</td>\n",
       "      <td>1</td>\n",
       "      <td>4789343708_3</td>\n",
       "      <td>...</td>\n",
       "      <td>2p</td>\n",
       "      <td>iNEXBatch</td>\n",
       "      <td>20210401</td>\n",
       "      <td>174255</td>\n",
       "      <td>49.0</td>\n",
       "      <td>N</td>\n",
       "      <td>경기도</td>\n",
       "      <td>안산시</td>\n",
       "      <td>부산광역시</td>\n",
       "      <td>서구</td>\n",
       "    </tr>\n",
       "    <tr>\n",
       "      <th>309349</th>\n",
       "      <td>KX007</td>\n",
       "      <td>1617235699003</td>\n",
       "      <td>KX007210401806392</td>\n",
       "      <td>7</td>\n",
       "      <td>20210331</td>\n",
       "      <td>0</td>\n",
       "      <td>90001502</td>\n",
       "      <td>0.0</td>\n",
       "      <td>1</td>\n",
       "      <td>100034</td>\n",
       "      <td>...</td>\n",
       "      <td>0</td>\n",
       "      <td>BATCH</td>\n",
       "      <td>20210401</td>\n",
       "      <td>173600</td>\n",
       "      <td>21.0</td>\n",
       "      <td>N</td>\n",
       "      <td>경기</td>\n",
       "      <td>광주시</td>\n",
       "      <td>인천광역시</td>\n",
       "      <td>NaN</td>\n",
       "    </tr>\n",
       "    <tr>\n",
       "      <th>309350</th>\n",
       "      <td>KX007</td>\n",
       "      <td>1617235754497</td>\n",
       "      <td>KX007210401806393</td>\n",
       "      <td>7</td>\n",
       "      <td>20210331</td>\n",
       "      <td>0</td>\n",
       "      <td>90001502</td>\n",
       "      <td>0.0</td>\n",
       "      <td>1</td>\n",
       "      <td>100032</td>\n",
       "      <td>...</td>\n",
       "      <td>2</td>\n",
       "      <td>BATCH</td>\n",
       "      <td>20210401</td>\n",
       "      <td>173600</td>\n",
       "      <td>16.0</td>\n",
       "      <td>N</td>\n",
       "      <td>경기</td>\n",
       "      <td>광주시</td>\n",
       "      <td>경기도</td>\n",
       "      <td>NaN</td>\n",
       "    </tr>\n",
       "    <tr>\n",
       "      <th>309351</th>\n",
       "      <td>KX007</td>\n",
       "      <td>2103291504517216</td>\n",
       "      <td>KX007210401807071</td>\n",
       "      <td>7</td>\n",
       "      <td>20210329</td>\n",
       "      <td>150451</td>\n",
       "      <td>90001502</td>\n",
       "      <td>0.0</td>\n",
       "      <td>1</td>\n",
       "      <td>100240</td>\n",
       "      <td>...</td>\n",
       "      <td>0</td>\n",
       "      <td>BATCH</td>\n",
       "      <td>20210401</td>\n",
       "      <td>180601</td>\n",
       "      <td>57.0</td>\n",
       "      <td>N</td>\n",
       "      <td>경기</td>\n",
       "      <td>광주시</td>\n",
       "      <td>전라남도</td>\n",
       "      <td>NaN</td>\n",
       "    </tr>\n",
       "  </tbody>\n",
       "</table>\n",
       "<p>309352 rows × 32 columns</p>\n",
       "</div>"
      ],
      "text/plain": [
       "       CORP_ID        REF_ORD_NO             BKG_NO  BKG_TYP  BKG_DATE  \\\n",
       "0        KX007  2021030365922551  KX007210303370934        7  20210303   \n",
       "1        KX007  2021030365922951  KX007210303371080        7  20210303   \n",
       "2        KX007  2021030365924361  KX007210303371081        7  20210303   \n",
       "3        KX007  2021030365928921  KX007210303371205        7  20210303   \n",
       "4        KX007  2021030365930451  KX007210303370967        7  20210303   \n",
       "...        ...               ...                ...      ...       ...   \n",
       "309347   KX007  2021040163863411  KX007210401807629        7  20210331   \n",
       "309348   KX007  2021040163894031  KX007210401807630        7  20210331   \n",
       "309349   KX007     1617235699003  KX007210401806392        7  20210331   \n",
       "309350   KX007     1617235754497  KX007210401806393        7  20210331   \n",
       "309351   KX007  2103291504517216  KX007210401807071        7  20210329   \n",
       "\n",
       "        BKG_TIME   SHPR_CD  INV_AMT  ITEM_SEQ       ITEM_CD  ... DLVSUBCLSFCD  \\\n",
       "0          35510  90001302  22400.0         2     134265392  ...            1   \n",
       "1          35521  90001441  20900.0         1  4610261043_2  ...            4   \n",
       "2          35513  90001441  37900.0         1  4936599538_1  ...            0   \n",
       "3          35608  90001542  69800.0         1  3858391637_1  ...            1   \n",
       "4          35551  90001341  73700.0         1    4631307460  ...            1   \n",
       "...          ...       ...      ...       ...           ...  ...          ...   \n",
       "309347    235554  90001582  19500.0         1   161523952_5  ...           2p   \n",
       "309348    235800  90001582  43600.0         1  4789343708_3  ...           2p   \n",
       "309349         0  90001502      0.0         1        100034  ...            0   \n",
       "309350         0  90001502      0.0         1        100032  ...            2   \n",
       "309351    150451  90001502      0.0         1        100240  ...            0   \n",
       "\n",
       "           INS_ID  INS_DATE INS_TIME  POST_ZONE  SPLIT_EXEC_YN SHPR_ADDR_1  \\\n",
       "0       iNEXBatch  20210303   131425        3.0              N     세종특별자치시   \n",
       "1       iNEXBatch  20210303   131425       50.0              N         경기도   \n",
       "2       iNEXBatch  20210303   131425       53.0              N         경기도   \n",
       "3       iNEXBatch  20210303   131425        6.0              N         경기도   \n",
       "4       iNEXBatch  20210303   131425       10.0              N         경기도   \n",
       "...           ...       ...      ...        ...            ...         ...   \n",
       "309347  iNEXBatch  20210401   174255       46.0              N         경기도   \n",
       "309348  iNEXBatch  20210401   174255       49.0              N         경기도   \n",
       "309349      BATCH  20210401   173600       21.0              N          경기   \n",
       "309350      BATCH  20210401   173600       16.0              N          경기   \n",
       "309351      BATCH  20210401   180601       57.0              N          경기   \n",
       "\n",
       "       SHPR_ADDR_2 CNEE_ADDR_1 CNEE_ADDR_2  \n",
       "0              NaN       서울특별시        서대문구  \n",
       "1              광주시        경상남도         김해시  \n",
       "2              광주시        경상남도         거제시  \n",
       "3              광주시       서울특별시         서초구  \n",
       "4              광주시         경기도         김포시  \n",
       "...            ...         ...         ...  \n",
       "309347         안산시       부산광역시          북구  \n",
       "309348         안산시       부산광역시          서구  \n",
       "309349         광주시       인천광역시         NaN  \n",
       "309350         광주시         경기도         NaN  \n",
       "309351         광주시        전라남도         NaN  \n",
       "\n",
       "[309352 rows x 32 columns]"
      ]
     },
     "execution_count": 23,
     "metadata": {},
     "output_type": "execute_result"
    }
   ],
   "source": [
    "df_3"
   ]
  },
  {
   "cell_type": "markdown",
   "metadata": {},
   "source": [
    "### 1. BKG_DATE 일별 물량"
   ]
  },
  {
   "cell_type": "code",
   "execution_count": 28,
   "metadata": {
    "ExecuteTime": {
     "end_time": "2021-10-06T12:00:36.968198Z",
     "start_time": "2021-10-06T12:00:36.515962Z"
    }
   },
   "outputs": [],
   "source": [
    "spool = df.groupby('BKG_DATE').count()['CORP_ID']\n",
    "df_col = ['date','logistics']\n",
    "df_list =[]\n",
    "for i , j in zip(spool.index.tolist(),spool.tolist()):\n",
    "    df_list.append([i-20210300,j])\n",
    "df_result = pd.DataFrame(df_list,columns=df_col)\n",
    "import seaborn as sns\n",
    "import matplotlib.pyplot as plt\n",
    "import matplotlib.font_manager as fm\n",
    "\n",
    "sns.barplot(x=\"date\", y=\"logistics\", data=df_result)\n",
    "plt.show()"
   ]
  },
  {
   "cell_type": "code",
   "execution_count": 50,
   "metadata": {
    "ExecuteTime": {
     "end_time": "2021-10-06T12:07:06.045130Z",
     "start_time": "2021-10-06T12:07:06.030138Z"
    }
   },
   "outputs": [],
   "source": [
    "df_col = ['date','logistics']\n",
    "df_list =[]\n",
    "for i , j in zip(spool.index.tolist(),spool.tolist()):\n",
    "    df_list.append([i-20210300,j])"
   ]
  },
  {
   "cell_type": "code",
   "execution_count": 51,
   "metadata": {
    "ExecuteTime": {
     "end_time": "2021-10-06T12:07:06.293532Z",
     "start_time": "2021-10-06T12:07:06.286485Z"
    }
   },
   "outputs": [],
   "source": [
    "df_result = pd.DataFrame(df_list,columns=df_col)"
   ]
  },
  {
   "cell_type": "code",
   "execution_count": 52,
   "metadata": {
    "ExecuteTime": {
     "end_time": "2021-10-06T12:07:06.777828Z",
     "start_time": "2021-10-06T12:07:06.463700Z"
    }
   },
   "outputs": [
    {
     "data": {
      "image/png": "[encoded data removed]",
      "text/plain": [
       "<Figure size 432x288 with 1 Axes>"
      ]
     },
     "metadata": {
      "needs_background": "light"
     },
     "output_type": "display_data"
    }
   ],
   "source": [
    "import seaborn as sns\n",
    "import matplotlib.pyplot as plt\n",
    "import matplotlib.font_manager as fm\n",
    "\n",
    "sns.barplot(x=\"date\", y=\"logistics\", data=df_result)\n",
    "plt.show()"
   ]
  },
  {
   "cell_type": "markdown",
   "metadata": {},
   "source": [
    "### 2. BKG_TYP 주문유형"
   ]
  },
  {
   "cell_type": "code",
   "execution_count": 54,
   "metadata": {
    "ExecuteTime": {
     "end_time": "2021-10-06T12:09:35.479891Z",
     "start_time": "2021-10-06T12:09:35.458948Z"
    }
   },
   "outputs": [
    {
     "data": {
      "text/plain": [
       "7    309219\n",
       "8       133\n",
       "Name: BKG_TYP, dtype: int64"
      ]
     },
     "execution_count": 54,
     "metadata": {},
     "output_type": "execute_result"
    }
   ],
   "source": [
    "df['BKG_TYP'].value_counts()"
   ]
  },
  {
   "cell_type": "markdown",
   "metadata": {
    "ExecuteTime": {
     "end_time": "2021-10-06T12:10:20.412992Z",
     "start_time": "2021-10-06T12:10:20.408987Z"
    }
   },
   "source": [
    "### 3. BKG_TIME 주문시간\n",
    "+ 처음부터 int로 읽어서.. 귀찮 -> paSS\n",
    "\n",
    "\n"
   ]
  },
  {
   "cell_type": "code",
   "execution_count": 57,
   "metadata": {
    "ExecuteTime": {
     "end_time": "2021-10-06T12:11:28.409393Z",
     "start_time": "2021-10-06T12:11:28.222891Z"
    }
   },
   "outputs": [
    {
     "data": {
      "text/plain": [
       "0          35510\n",
       "1          35521\n",
       "2          35513\n",
       "3          35608\n",
       "4          35551\n",
       "           ...  \n",
       "309347    235554\n",
       "309348    235800\n",
       "309349         0\n",
       "309350         0\n",
       "309351    150451\n",
       "Name: BKG_TIME, Length: 309352, dtype: object"
      ]
     },
     "execution_count": 57,
     "metadata": {},
     "output_type": "execute_result"
    }
   ],
   "source": [
    "df['BKG_TIME'].astype(str)"
   ]
  },
  {
   "cell_type": "markdown",
   "metadata": {
    "ExecuteTime": {
     "end_time": "2021-10-06T12:12:07.249712Z",
     "start_time": "2021-10-06T12:12:07.230763Z"
    }
   },
   "source": [
    "### 4. SHPR_CD 고객사코드"
   ]
  },
  {
   "cell_type": "code",
   "execution_count": 60,
   "metadata": {
    "ExecuteTime": {
     "end_time": "2021-10-06T12:12:26.447414Z",
     "start_time": "2021-10-06T12:12:26.423672Z"
    }
   },
   "outputs": [
    {
     "data": {
      "text/plain": [
       "90001302    114237\n",
       "90001542     48956\n",
       "90001341     40786\n",
       "90001541     34220\n",
       "90001441     31408\n",
       "90001443     22714\n",
       "90001521      9252\n",
       "90001502      3656\n",
       "90001381      2828\n",
       "90001562      1109\n",
       "90001582       186\n",
       "Name: SHPR_CD, dtype: int64"
      ]
     },
     "execution_count": 60,
     "metadata": {},
     "output_type": "execute_result"
    }
   ],
   "source": [
    "df['SHPR_CD'].value_counts()"
   ]
  },
  {
   "cell_type": "markdown",
   "metadata": {
    "ExecuteTime": {
     "end_time": "2021-10-06T12:12:46.254675Z",
     "start_time": "2021-10-06T12:12:46.239717Z"
    }
   },
   "source": [
    "### 5. INV_AMT 주문금액\n",
    "+ 추후 고객별.. 센터별 ... 등 .. 음... 활용가능"
   ]
  },
  {
   "cell_type": "code",
   "execution_count": 66,
   "metadata": {
    "ExecuteTime": {
     "end_time": "2021-10-06T12:14:49.437995Z",
     "start_time": "2021-10-06T12:14:49.236322Z"
    }
   },
   "outputs": [
    {
     "data": {
      "text/plain": [
       "count    3.054140e+05\n",
       "mean     5.675440e+04\n",
       "std      6.375390e+04\n",
       "min      0.000000e+00\n",
       "25%      1.990000e+04\n",
       "50%      3.780000e+04\n",
       "75%      7.160000e+04\n",
       "max      4.760000e+06\n",
       "Name: INV_AMT, dtype: float64"
      ]
     },
     "execution_count": 66,
     "metadata": {},
     "output_type": "execute_result"
    }
   ],
   "source": [
    "df.describe()['INV_AMT']"
   ]
  },
  {
   "cell_type": "markdown",
   "metadata": {},
   "source": [
    "### 6. ITEM_SEQ 품목순번"
   ]
  },
  {
   "cell_type": "code",
   "execution_count": 68,
   "metadata": {
    "ExecuteTime": {
     "end_time": "2021-10-06T12:16:30.446166Z",
     "start_time": "2021-10-06T12:16:30.423188Z"
    }
   },
   "outputs": [
    {
     "data": {
      "text/plain": [
       "1     240278\n",
       "2      40240\n",
       "3      15938\n",
       "4       6823\n",
       "5       2818\n",
       "6       1439\n",
       "7        853\n",
       "8        465\n",
       "9        178\n",
       "10        98\n",
       "11        64\n",
       "12        38\n",
       "13        27\n",
       "14        16\n",
       "15        13\n",
       "16         9\n",
       "17         7\n",
       "18         6\n",
       "19         5\n",
       "20         5\n",
       "21         4\n",
       "22         3\n",
       "23         3\n",
       "24         3\n",
       "25         3\n",
       "29         2\n",
       "31         2\n",
       "30         2\n",
       "27         2\n",
       "28         2\n",
       "26         2\n",
       "32         1\n",
       "33         1\n",
       "34         1\n",
       "35         1\n",
       "Name: ITEM_SEQ, dtype: int64"
      ]
     },
     "execution_count": 68,
     "metadata": {},
     "output_type": "execute_result"
    }
   ],
   "source": [
    "df['ITEM_SEQ'].value_counts()"
   ]
  },
  {
   "cell_type": "markdown",
   "metadata": {},
   "source": [
    "### 7. ITEM_CD 품목코드"
   ]
  },
  {
   "cell_type": "code",
   "execution_count": 71,
   "metadata": {
    "ExecuteTime": {
     "end_time": "2021-10-06T12:17:24.992511Z",
     "start_time": "2021-10-06T12:17:24.947638Z"
    }
   },
   "outputs": [
    {
     "data": {
      "text/plain": [
       "6051"
      ]
     },
     "execution_count": 71,
     "metadata": {},
     "output_type": "execute_result"
    }
   ],
   "source": [
    "len(df['ITEM_CD'].value_counts())"
   ]
  },
  {
   "cell_type": "code",
   "execution_count": 72,
   "metadata": {
    "ExecuteTime": {
     "end_time": "2021-10-06T12:17:31.124820Z",
     "start_time": "2021-10-06T12:17:31.073957Z"
    }
   },
   "outputs": [
    {
     "data": {
      "text/plain": [
       "4658408144_1     10033\n",
       "5480996007        4926\n",
       "4586602884_10     3613\n",
       "4586602884_11     3404\n",
       "5390871219        2924\n",
       "                 ...  \n",
       "4054441775           1\n",
       "999999_2             1\n",
       "5235818720           1\n",
       "5227741926           1\n",
       "4288443412_1         1\n",
       "Name: ITEM_CD, Length: 6051, dtype: int64"
      ]
     },
     "execution_count": 72,
     "metadata": {},
     "output_type": "execute_result"
    }
   ],
   "source": [
    "df['ITEM_CD'].value_counts()"
   ]
  },
  {
   "cell_type": "markdown",
   "metadata": {
    "ExecuteTime": {
     "end_time": "2021-10-06T12:17:53.860546Z",
     "start_time": "2021-10-06T12:17:53.852567Z"
    }
   },
   "source": [
    "### 8. ITEM_NM 품목명 없음\n",
    "### 9. BRAND_NM 브랜드 -> 단일상품..(?)"
   ]
  },
  {
   "cell_type": "code",
   "execution_count": 76,
   "metadata": {
    "ExecuteTime": {
     "end_time": "2021-10-06T12:19:11.588560Z",
     "start_time": "2021-10-06T12:19:11.548663Z"
    }
   },
   "outputs": [
    {
     "data": {
      "text/plain": [
       "조합형옵션상품    243890\n",
       "단일상품        57266\n",
       "추가구성상품        602\n",
       "Name: BRAND_NM, dtype: int64"
      ]
     },
     "execution_count": 76,
     "metadata": {},
     "output_type": "execute_result"
    }
   ],
   "source": [
    "df['BRAND_NM'].value_counts()"
   ]
  },
  {
   "cell_type": "code",
   "execution_count": 80,
   "metadata": {
    "ExecuteTime": {
     "end_time": "2021-10-06T12:20:11.740076Z",
     "start_time": "2021-10-06T12:20:11.718125Z"
    }
   },
   "outputs": [
    {
     "data": {
      "text/plain": [
       "7594"
      ]
     },
     "execution_count": 80,
     "metadata": {},
     "output_type": "execute_result"
    }
   ],
   "source": [
    "df['BRAND_NM'].isnull().sum()"
   ]
  },
  {
   "cell_type": "markdown",
   "metadata": {
    "ExecuteTime": {
     "end_time": "2021-10-06T12:20:30.318746Z",
     "start_time": "2021-10-06T12:20:30.308746Z"
    }
   },
   "source": [
    "### 10.ITEM_QTY 품목수량"
   ]
  },
  {
   "cell_type": "code",
   "execution_count": 83,
   "metadata": {
    "ExecuteTime": {
     "end_time": "2021-10-06T12:20:44.555665Z",
     "start_time": "2021-10-06T12:20:44.530732Z"
    }
   },
   "outputs": [
    {
     "data": {
      "text/plain": [
       "1      266952\n",
       "2       26088\n",
       "3        6528\n",
       "4        3739\n",
       "5        2015\n",
       "        ...  \n",
       "88          1\n",
       "92          1\n",
       "860         1\n",
       "105         1\n",
       "510         1\n",
       "Name: ITEM_QTY, Length: 106, dtype: int64"
      ]
     },
     "execution_count": 83,
     "metadata": {},
     "output_type": "execute_result"
    }
   ],
   "source": [
    "df['ITEM_QTY'].value_counts()"
   ]
  },
  {
   "cell_type": "markdown",
   "metadata": {},
   "source": [
    "### 11. ITEM_AMT 품목 금액\n",
    "+ 품목 수량 * 품목금액 = 주문 금액??.. 다른 칼럼도 있던데"
   ]
  },
  {
   "cell_type": "code",
   "execution_count": 84,
   "metadata": {
    "ExecuteTime": {
     "end_time": "2021-10-06T12:21:09.656382Z",
     "start_time": "2021-10-06T12:21:09.646442Z"
    }
   },
   "outputs": [
    {
     "data": {
      "text/plain": [
       "0         14900.0\n",
       "1         20900.0\n",
       "2         37900.0\n",
       "3         69800.0\n",
       "4         39800.0\n",
       "           ...   \n",
       "309347    19500.0\n",
       "309348    43600.0\n",
       "309349        0.0\n",
       "309350        0.0\n",
       "309351        0.0\n",
       "Name: ITEM_AMT, Length: 309352, dtype: float64"
      ]
     },
     "execution_count": 84,
     "metadata": {},
     "output_type": "execute_result"
    }
   ],
   "source": [
    "df['ITEM_AMT']"
   ]
  },
  {
   "cell_type": "markdown",
   "metadata": {},
   "source": [
    "### 수신여부 -> 버리는 카드"
   ]
  },
  {
   "cell_type": "code",
   "execution_count": 87,
   "metadata": {
    "ExecuteTime": {
     "end_time": "2021-10-06T12:22:37.246411Z",
     "start_time": "2021-10-06T12:22:37.216724Z"
    }
   },
   "outputs": [
    {
     "data": {
      "text/plain": [
       "N    309352\n",
       "Name: IF_YN, dtype: int64"
      ]
     },
     "execution_count": 87,
     "metadata": {},
     "output_type": "execute_result"
    }
   ],
   "source": [
    "df['IF_YN'].value_counts()"
   ]
  },
  {
   "cell_type": "markdown",
   "metadata": {},
   "source": [
    "### 12. ORDER_CRT_DATETIME 주문 생성시간\n",
    "+ 주문 생성시간이 비어있는건 뭔소린지.."
   ]
  },
  {
   "cell_type": "code",
   "execution_count": 93,
   "metadata": {
    "ExecuteTime": {
     "end_time": "2021-10-06T12:23:53.923843Z",
     "start_time": "2021-10-06T12:23:53.901904Z"
    }
   },
   "outputs": [
    {
     "data": {
      "text/plain": [
       "7594"
      ]
     },
     "execution_count": 93,
     "metadata": {},
     "output_type": "execute_result"
    }
   ],
   "source": [
    "df['ORDER_CRT_DATETIME'].isnull().sum()"
   ]
  },
  {
   "cell_type": "markdown",
   "metadata": {
    "ExecuteTime": {
     "end_time": "2021-10-06T12:24:15.299914Z",
     "start_time": "2021-10-06T12:24:15.280965Z"
    }
   },
   "source": [
    "### 13. DLV_DV 택배구분\n",
    "+ 모두 1"
   ]
  },
  {
   "cell_type": "code",
   "execution_count": 96,
   "metadata": {
    "ExecuteTime": {
     "end_time": "2021-10-06T12:24:26.924528Z",
     "start_time": "2021-10-06T12:24:26.905573Z"
    }
   },
   "outputs": [
    {
     "data": {
      "text/plain": [
       "1.0    309220\n",
       "Name: DLV_DV, dtype: int64"
      ]
     },
     "execution_count": 96,
     "metadata": {},
     "output_type": "execute_result"
    }
   ],
   "source": [
    "df['DLV_DV'].value_counts()"
   ]
  },
  {
   "cell_type": "markdown",
   "metadata": {},
   "source": [
    "### 15. DLVPREARRBRANCD 배달예정점소코드\n",
    "+ 배달가는곳 1986지점"
   ]
  },
  {
   "cell_type": "code",
   "execution_count": 108,
   "metadata": {
    "ExecuteTime": {
     "end_time": "2021-10-06T12:27:18.452275Z",
     "start_time": "2021-10-06T12:27:18.408396Z"
    }
   },
   "outputs": [
    {
     "data": {
      "text/plain": [
       "6850    1424\n",
       "4706    1246\n",
       "4787    1222\n",
       "M58A    1185\n",
       "7658     962\n",
       "        ... \n",
       "7553       1\n",
       "N16J       1\n",
       "7240       1\n",
       "4163       1\n",
       "5836       1\n",
       "Name: DLVPREARRBRANCD, Length: 1986, dtype: int64"
      ]
     },
     "execution_count": 108,
     "metadata": {},
     "output_type": "execute_result"
    }
   ],
   "source": [
    "df['DLVPREARRBRANCD'].value_counts()"
   ]
  },
  {
   "cell_type": "markdown",
   "metadata": {
    "ExecuteTime": {
     "end_time": "2021-10-06T12:27:43.009575Z",
     "start_time": "2021-10-06T12:27:42.996612Z"
    }
   },
   "source": [
    "### 16. DLVPREARREMPNICKNM 배달예정사원분류코드"
   ]
  },
  {
   "cell_type": "code",
   "execution_count": 111,
   "metadata": {
    "ExecuteTime": {
     "end_time": "2021-10-06T12:27:56.193948Z",
     "start_time": "2021-10-06T12:27:56.138016Z"
    }
   },
   "outputs": [
    {
     "data": {
      "text/plain": [
       "A03    959\n",
       "A04    938\n",
       "A05    894\n",
       "A07    879\n",
       "C05    871\n",
       "      ... \n",
       "M0★      1\n",
       "O49      1\n",
       "M48      1\n",
       "N41      1\n",
       "U58      1\n",
       "Name: DLVPREARREMPNICKNM, Length: 2392, dtype: int64"
      ]
     },
     "execution_count": 111,
     "metadata": {},
     "output_type": "execute_result"
    }
   ],
   "source": [
    "df['DLVPREARREMPNICKNM'].value_counts()"
   ]
  },
  {
   "cell_type": "markdown",
   "metadata": {},
   "source": [
    "### 17. DLVCLSFCD 배달 터미널 코드\n",
    "+ 301개"
   ]
  },
  {
   "cell_type": "code",
   "execution_count": 114,
   "metadata": {
    "ExecuteTime": {
     "end_time": "2021-10-06T12:28:22.678502Z",
     "start_time": "2021-10-06T12:28:22.633621Z"
    }
   },
   "outputs": [
    {
     "data": {
      "text/plain": [
       "4A70    3802\n",
       "4C40    3166\n",
       "1M27    3093\n",
       "4A16    2939\n",
       "3B47    2835\n",
       "        ... \n",
       "WW34      48\n",
       "WQ02      42\n",
       "8Z88      23\n",
       "WW45      14\n",
       "8Z66       2\n",
       "Name: DLVCLSFCD, Length: 301, dtype: int64"
      ]
     },
     "execution_count": 114,
     "metadata": {},
     "output_type": "execute_result"
    }
   ],
   "source": [
    "df['DLVCLSFCD'].value_counts()"
   ]
  },
  {
   "cell_type": "markdown",
   "metadata": {
    "ExecuteTime": {
     "end_time": "2021-10-06T12:28:42.104937Z",
     "start_time": "2021-10-06T12:28:42.098953Z"
    }
   },
   "source": [
    "### 18. DLVSUBCLSFCD 배달터미널 소분류코드\n",
    "+ 43개??"
   ]
  },
  {
   "cell_type": "code",
   "execution_count": 118,
   "metadata": {
    "ExecuteTime": {
     "end_time": "2021-10-06T12:29:09.986574Z",
     "start_time": "2021-10-06T12:29:09.939704Z"
    }
   },
   "outputs": [
    {
     "data": {
      "text/plain": [
       "1     82408\n",
       "2     68195\n",
       "0     58318\n",
       "3     19628\n",
       "4     11171\n",
       "5      8081\n",
       "0p     5746\n",
       "1p     5163\n",
       "2p     5096\n",
       "1t     3871\n",
       "1m     3677\n",
       "1h     3524\n",
       "2h     3435\n",
       "0t     2901\n",
       "2t     2865\n",
       "2m     2580\n",
       "3p     2286\n",
       "6      2260\n",
       "8      2121\n",
       "7      2085\n",
       "0k     2008\n",
       "3m     1916\n",
       "3t     1760\n",
       "2k     1412\n",
       "2d     1372\n",
       "9      1340\n",
       "1d     1327\n",
       "3k      553\n",
       "4k      480\n",
       "5p      360\n",
       "4m      359\n",
       "1g      268\n",
       "4t      249\n",
       "7k      169\n",
       "4p       76\n",
       "5t       65\n",
       "6t       62\n",
       "7t       23\n",
       "4c        4\n",
       "1a        3\n",
       "1c        1\n",
       "0c        1\n",
       "3c        1\n",
       "Name: DLVSUBCLSFCD, dtype: int64"
      ]
     },
     "execution_count": 118,
     "metadata": {},
     "output_type": "execute_result"
    }
   ],
   "source": [
    "df['DLVSUBCLSFCD'].value_counts()"
   ]
  },
  {
   "cell_type": "markdown",
   "metadata": {},
   "source": [
    "### 19. 권역구분"
   ]
  },
  {
   "cell_type": "code",
   "execution_count": 122,
   "metadata": {
    "ExecuteTime": {
     "end_time": "2021-10-06T12:30:27.158387Z",
     "start_time": "2021-10-06T12:30:27.140420Z"
    }
   },
   "outputs": [
    {
     "data": {
      "text/plain": [
       "10.0    13741\n",
       "16.0    13373\n",
       "12.0    10992\n",
       "14.0    10601\n",
       "6.0      9909\n",
       "7.0      9554\n",
       "18.0     9454\n",
       "5.0      9181\n",
       "17.0     9072\n",
       "31.0     9016\n",
       "21.0     8748\n",
       "8.0      8586\n",
       "4.0      8251\n",
       "13.0     8069\n",
       "42.0     7493\n",
       "22.0     7211\n",
       "3.0      7138\n",
       "2.0      6803\n",
       "51.0     6524\n",
       "1.0      6336\n",
       "15.0     6264\n",
       "11.0     6206\n",
       "44.0     5853\n",
       "50.0     5694\n",
       "28.0     5586\n",
       "34.0     5529\n",
       "46.0     5288\n",
       "41.0     5275\n",
       "48.0     5203\n",
       "54.0     5192\n",
       "47.0     5128\n",
       "61.0     5005\n",
       "52.0     4068\n",
       "37.0     3816\n",
       "58.0     3698\n",
       "39.0     3690\n",
       "27.0     3399\n",
       "38.0     3214\n",
       "26.0     3099\n",
       "35.0     3020\n",
       "24.0     2934\n",
       "62.0     2834\n",
       "30.0     2781\n",
       "57.0     2758\n",
       "25.0     2752\n",
       "32.0     2689\n",
       "55.0     2604\n",
       "53.0     2551\n",
       "36.0     2540\n",
       "59.0     2520\n",
       "49.0     2365\n",
       "63.0     1842\n",
       "33.0     1054\n",
       "56.0      893\n",
       "99.0      464\n",
       "43.0      365\n",
       "29.0      328\n",
       "23.0      290\n",
       "40.0      256\n",
       "45.0      121\n",
       "Name: POST_ZONE, dtype: int64"
      ]
     },
     "execution_count": 122,
     "metadata": {},
     "output_type": "execute_result"
    }
   ],
   "source": [
    "df['POST_ZONE'].value_counts()"
   ]
  },
  {
   "cell_type": "code",
   "execution_count": 128,
   "metadata": {
    "ExecuteTime": {
     "end_time": "2021-10-06T12:31:07.861350Z",
     "start_time": "2021-10-06T12:31:07.818464Z"
    }
   },
   "outputs": [
    {
     "data": {
      "text/plain": [
       "경기도        290321\n",
       "세종특별자치시     12524\n",
       "경기           6485\n",
       "충청북도           22\n",
       "Name: SHPR_ADDR_1, dtype: int64"
      ]
     },
     "execution_count": 128,
     "metadata": {},
     "output_type": "execute_result"
    }
   ],
   "source": [
    "df['SHPR_ADDR_1'].value_counts()"
   ]
  },
  {
   "cell_type": "markdown",
   "metadata": {},
   "source": [
    "## 주문 시간... 차이?"
   ]
  },
  {
   "cell_type": "code",
   "execution_count": 154,
   "metadata": {
    "ExecuteTime": {
     "end_time": "2021-10-06T12:38:47.850609Z",
     "start_time": "2021-10-06T12:38:46.539856Z"
    }
   },
   "outputs": [],
   "source": [
    "a = pd.to_datetime(df['BKG_DATE'].astype(str).str[0:4] +  \"-\"+df['BKG_DATE'].astype(str).str[4:6] + \"-\" +df['BKG_DATE'].astype(str).str[6:])"
   ]
  },
  {
   "cell_type": "code",
   "execution_count": 155,
   "metadata": {
    "ExecuteTime": {
     "end_time": "2021-10-06T12:38:49.362678Z",
     "start_time": "2021-10-06T12:38:47.856610Z"
    }
   },
   "outputs": [],
   "source": [
    "b = pd.to_datetime(df['INS_DATE'].astype(str).str[0:4] +  \"-\"+df['INS_DATE'].astype(str).str[4:6] + \"-\" +df['INS_DATE'].astype(str).str[6:])"
   ]
  },
  {
   "cell_type": "code",
   "execution_count": 131,
   "metadata": {
    "ExecuteTime": {
     "end_time": "2021-10-06T12:31:54.675136Z",
     "start_time": "2021-10-06T12:31:54.667159Z"
    }
   },
   "outputs": [
    {
     "data": {
      "text/plain": [
       "0         20210303\n",
       "1         20210303\n",
       "2         20210303\n",
       "3         20210303\n",
       "4         20210303\n",
       "            ...   \n",
       "309347    20210401\n",
       "309348    20210401\n",
       "309349    20210401\n",
       "309350    20210401\n",
       "309351    20210401\n",
       "Name: INS_DATE, Length: 309352, dtype: int64"
      ]
     },
     "execution_count": 131,
     "metadata": {},
     "output_type": "execute_result"
    }
   ],
   "source": [
    "df['INS_DATE']"
   ]
  },
  {
   "cell_type": "code",
   "execution_count": 157,
   "metadata": {
    "ExecuteTime": {
     "end_time": "2021-10-06T12:39:26.201188Z",
     "start_time": "2021-10-06T12:39:26.169274Z"
    }
   },
   "outputs": [
    {
     "data": {
      "text/plain": [
       "0 days      252779\n",
       "-1 days      56191\n",
       "-2 days        291\n",
       "-3 days         33\n",
       "1 days          28\n",
       "-4 days         12\n",
       "-8 days          4\n",
       "-9 days          4\n",
       "-6 days          3\n",
       "-5 days          2\n",
       "-10 days         2\n",
       "-13 days         1\n",
       "4 days           1\n",
       "-11 days         1\n",
       "dtype: int64"
      ]
     },
     "execution_count": 157,
     "metadata": {},
     "output_type": "execute_result"
    }
   ],
   "source": [
    "(a - b).value_counts()"
   ]
  },
  {
   "cell_type": "code",
   "execution_count": 2,
   "metadata": {
    "ExecuteTime": {
     "end_time": "2021-10-06T13:17:29.368159Z",
     "start_time": "2021-10-06T13:17:26.095953Z"
    }
   },
   "outputs": [],
   "source": [
    "import pandas as pd"
   ]
  },
  {
   "cell_type": "code",
   "execution_count": 3,
   "metadata": {
    "ExecuteTime": {
     "end_time": "2021-10-06T13:21:13.147025Z",
     "start_time": "2021-10-06T13:17:29.370155Z"
    }
   },
   "outputs": [],
   "source": [
    "\n",
    "#df_5 = pd.read_excel('./1. 이커머스 FC주문 데이터/1-2. 이커머스 FC주문 데이터_4월.xlsx')"
   ]
  },
  {
   "cell_type": "code",
   "execution_count": 4,
   "metadata": {
    "ExecuteTime": {
     "end_time": "2021-10-06T13:32:20.131708Z",
     "start_time": "2021-10-06T13:32:19.771900Z"
    }
   },
   "outputs": [
    {
     "data": {
      "text/html": [
       "<div>\n",
       "<style scoped>\n",
       "    .dataframe tbody tr th:only-of-type {\n",
       "        vertical-align: middle;\n",
       "    }\n",
       "\n",
       "    .dataframe tbody tr th {\n",
       "        vertical-align: top;\n",
       "    }\n",
       "\n",
       "    .dataframe thead th {\n",
       "        text-align: right;\n",
       "    }\n",
       "</style>\n",
       "<table border=\"1\" class=\"dataframe\">\n",
       "  <thead>\n",
       "    <tr style=\"text-align: right;\">\n",
       "      <th></th>\n",
       "      <th>CORP_ID</th>\n",
       "      <th>REF_ORD_NO</th>\n",
       "      <th>BKG_NO</th>\n",
       "      <th>BKG_TYP</th>\n",
       "      <th>BKG_DATE</th>\n",
       "      <th>BKG_TIME</th>\n",
       "      <th>SHPR_CD</th>\n",
       "      <th>INV_AMT</th>\n",
       "      <th>ITEM_SEQ</th>\n",
       "      <th>ITEM_CD</th>\n",
       "      <th>...</th>\n",
       "      <th>DLVSUBCLSFCD</th>\n",
       "      <th>INS_ID</th>\n",
       "      <th>INS_DATE</th>\n",
       "      <th>INS_TIME</th>\n",
       "      <th>POST_ZONE</th>\n",
       "      <th>SPLIT_EXEC_YN</th>\n",
       "      <th>SHPR_ADDR_1</th>\n",
       "      <th>SHPR_ADDR_2</th>\n",
       "      <th>CNEE_ADDR_1</th>\n",
       "      <th>CNEE_ADDR_2</th>\n",
       "    </tr>\n",
       "  </thead>\n",
       "  <tbody>\n",
       "    <tr>\n",
       "      <th>0</th>\n",
       "      <td>KX007</td>\n",
       "      <td>2021040170338211</td>\n",
       "      <td>KX007210401803185</td>\n",
       "      <td>7</td>\n",
       "      <td>20210401</td>\n",
       "      <td>44352</td>\n",
       "      <td>90001542</td>\n",
       "      <td>94000.0</td>\n",
       "      <td>1</td>\n",
       "      <td>4658408144_1</td>\n",
       "      <td>...</td>\n",
       "      <td>4m</td>\n",
       "      <td>iNEXBatch</td>\n",
       "      <td>20210401</td>\n",
       "      <td>135628</td>\n",
       "      <td>35.0</td>\n",
       "      <td>N</td>\n",
       "      <td>경기도</td>\n",
       "      <td>광주시</td>\n",
       "      <td>대전광역시</td>\n",
       "      <td>서구</td>\n",
       "    </tr>\n",
       "    <tr>\n",
       "      <th>1</th>\n",
       "      <td>KX007</td>\n",
       "      <td>2021040170340561</td>\n",
       "      <td>KX007210401803114</td>\n",
       "      <td>7</td>\n",
       "      <td>20210401</td>\n",
       "      <td>44407</td>\n",
       "      <td>90001341</td>\n",
       "      <td>15900.0</td>\n",
       "      <td>1</td>\n",
       "      <td>2475138283</td>\n",
       "      <td>...</td>\n",
       "      <td>1</td>\n",
       "      <td>iNEXBatch</td>\n",
       "      <td>20210401</td>\n",
       "      <td>135628</td>\n",
       "      <td>44.0</td>\n",
       "      <td>N</td>\n",
       "      <td>경기도</td>\n",
       "      <td>광주시</td>\n",
       "      <td>울산광역시</td>\n",
       "      <td>북구</td>\n",
       "    </tr>\n",
       "    <tr>\n",
       "      <th>2</th>\n",
       "      <td>KX007</td>\n",
       "      <td>2021040170347971</td>\n",
       "      <td>KX007210401803156</td>\n",
       "      <td>7</td>\n",
       "      <td>20210401</td>\n",
       "      <td>44419</td>\n",
       "      <td>90001541</td>\n",
       "      <td>31600.0</td>\n",
       "      <td>1</td>\n",
       "      <td>4802177320_1</td>\n",
       "      <td>...</td>\n",
       "      <td>0</td>\n",
       "      <td>iNEXBatch</td>\n",
       "      <td>20210401</td>\n",
       "      <td>135628</td>\n",
       "      <td>4.0</td>\n",
       "      <td>N</td>\n",
       "      <td>경기도</td>\n",
       "      <td>광주시</td>\n",
       "      <td>서울특별시</td>\n",
       "      <td>광진구</td>\n",
       "    </tr>\n",
       "    <tr>\n",
       "      <th>3</th>\n",
       "      <td>KX007</td>\n",
       "      <td>2021040170347971</td>\n",
       "      <td>KX007210401803156</td>\n",
       "      <td>7</td>\n",
       "      <td>20210401</td>\n",
       "      <td>44419</td>\n",
       "      <td>90001541</td>\n",
       "      <td>31600.0</td>\n",
       "      <td>2</td>\n",
       "      <td>4802177320_10</td>\n",
       "      <td>...</td>\n",
       "      <td>0</td>\n",
       "      <td>iNEXBatch</td>\n",
       "      <td>20210401</td>\n",
       "      <td>135628</td>\n",
       "      <td>4.0</td>\n",
       "      <td>N</td>\n",
       "      <td>경기도</td>\n",
       "      <td>광주시</td>\n",
       "      <td>서울특별시</td>\n",
       "      <td>광진구</td>\n",
       "    </tr>\n",
       "    <tr>\n",
       "      <th>4</th>\n",
       "      <td>KX007</td>\n",
       "      <td>2021040170351281</td>\n",
       "      <td>KX007210401803186</td>\n",
       "      <td>7</td>\n",
       "      <td>20210401</td>\n",
       "      <td>44607</td>\n",
       "      <td>90001542</td>\n",
       "      <td>198000.0</td>\n",
       "      <td>1</td>\n",
       "      <td>5329225766_1</td>\n",
       "      <td>...</td>\n",
       "      <td>0</td>\n",
       "      <td>iNEXBatch</td>\n",
       "      <td>20210401</td>\n",
       "      <td>135628</td>\n",
       "      <td>50.0</td>\n",
       "      <td>N</td>\n",
       "      <td>경기도</td>\n",
       "      <td>광주시</td>\n",
       "      <td>경상남도</td>\n",
       "      <td>함양군</td>\n",
       "    </tr>\n",
       "    <tr>\n",
       "      <th>...</th>\n",
       "      <td>...</td>\n",
       "      <td>...</td>\n",
       "      <td>...</td>\n",
       "      <td>...</td>\n",
       "      <td>...</td>\n",
       "      <td>...</td>\n",
       "      <td>...</td>\n",
       "      <td>...</td>\n",
       "      <td>...</td>\n",
       "      <td>...</td>\n",
       "      <td>...</td>\n",
       "      <td>...</td>\n",
       "      <td>...</td>\n",
       "      <td>...</td>\n",
       "      <td>...</td>\n",
       "      <td>...</td>\n",
       "      <td>...</td>\n",
       "      <td>...</td>\n",
       "      <td>...</td>\n",
       "      <td>...</td>\n",
       "      <td>...</td>\n",
       "    </tr>\n",
       "    <tr>\n",
       "      <th>349583</th>\n",
       "      <td>KX007</td>\n",
       "      <td>2021043084677951</td>\n",
       "      <td>KX007210430292254</td>\n",
       "      <td>7</td>\n",
       "      <td>20210430</td>\n",
       "      <td>92052</td>\n",
       "      <td>90001302</td>\n",
       "      <td>6600.0</td>\n",
       "      <td>1</td>\n",
       "      <td>158150256</td>\n",
       "      <td>...</td>\n",
       "      <td>3</td>\n",
       "      <td>iNEXBatch</td>\n",
       "      <td>20210430</td>\n",
       "      <td>183535</td>\n",
       "      <td>13.0</td>\n",
       "      <td>N</td>\n",
       "      <td>경기도</td>\n",
       "      <td>광주시</td>\n",
       "      <td>경기도</td>\n",
       "      <td>성남시</td>\n",
       "    </tr>\n",
       "    <tr>\n",
       "      <th>349584</th>\n",
       "      <td>KX007</td>\n",
       "      <td>2021043084678511</td>\n",
       "      <td>KX007210430292358</td>\n",
       "      <td>7</td>\n",
       "      <td>20210430</td>\n",
       "      <td>92052</td>\n",
       "      <td>90001602</td>\n",
       "      <td>31900.0</td>\n",
       "      <td>1</td>\n",
       "      <td>657383604_1</td>\n",
       "      <td>...</td>\n",
       "      <td>1</td>\n",
       "      <td>iNEXBatch</td>\n",
       "      <td>20210430</td>\n",
       "      <td>183535</td>\n",
       "      <td>1.0</td>\n",
       "      <td>N</td>\n",
       "      <td>경기도</td>\n",
       "      <td>광주시</td>\n",
       "      <td>서울특별시</td>\n",
       "      <td>강북구</td>\n",
       "    </tr>\n",
       "    <tr>\n",
       "      <th>349585</th>\n",
       "      <td>KX007</td>\n",
       "      <td>2021042571036031_1</td>\n",
       "      <td>KX007210505360800</td>\n",
       "      <td>7</td>\n",
       "      <td>20210425</td>\n",
       "      <td>122047</td>\n",
       "      <td>90001443</td>\n",
       "      <td>NaN</td>\n",
       "      <td>1</td>\n",
       "      <td>5176594782</td>\n",
       "      <td>...</td>\n",
       "      <td>3t</td>\n",
       "      <td>AK04</td>\n",
       "      <td>20210504</td>\n",
       "      <td>122047</td>\n",
       "      <td>41.0</td>\n",
       "      <td>N</td>\n",
       "      <td>경기</td>\n",
       "      <td>광주시</td>\n",
       "      <td>대구광역시</td>\n",
       "      <td>NaN</td>\n",
       "    </tr>\n",
       "    <tr>\n",
       "      <th>349586</th>\n",
       "      <td>KX007</td>\n",
       "      <td>2021042571036031_2</td>\n",
       "      <td>KX007210505360801</td>\n",
       "      <td>7</td>\n",
       "      <td>20210425</td>\n",
       "      <td>122047</td>\n",
       "      <td>90001443</td>\n",
       "      <td>NaN</td>\n",
       "      <td>1</td>\n",
       "      <td>5161924242</td>\n",
       "      <td>...</td>\n",
       "      <td>3t</td>\n",
       "      <td>AK04</td>\n",
       "      <td>20210504</td>\n",
       "      <td>122047</td>\n",
       "      <td>41.0</td>\n",
       "      <td>N</td>\n",
       "      <td>경기</td>\n",
       "      <td>광주시</td>\n",
       "      <td>대구광역시</td>\n",
       "      <td>NaN</td>\n",
       "    </tr>\n",
       "    <tr>\n",
       "      <th>349587</th>\n",
       "      <td>KX007</td>\n",
       "      <td>2021042571036031_3</td>\n",
       "      <td>KX007210505360802</td>\n",
       "      <td>7</td>\n",
       "      <td>20210425</td>\n",
       "      <td>122047</td>\n",
       "      <td>90001443</td>\n",
       "      <td>NaN</td>\n",
       "      <td>1</td>\n",
       "      <td>5161927715</td>\n",
       "      <td>...</td>\n",
       "      <td>3t</td>\n",
       "      <td>AK04</td>\n",
       "      <td>20210504</td>\n",
       "      <td>122047</td>\n",
       "      <td>41.0</td>\n",
       "      <td>N</td>\n",
       "      <td>경기</td>\n",
       "      <td>광주시</td>\n",
       "      <td>대구광역시</td>\n",
       "      <td>NaN</td>\n",
       "    </tr>\n",
       "  </tbody>\n",
       "</table>\n",
       "<p>349588 rows × 32 columns</p>\n",
       "</div>"
      ],
      "text/plain": [
       "       CORP_ID          REF_ORD_NO             BKG_NO  BKG_TYP  BKG_DATE  \\\n",
       "0        KX007    2021040170338211  KX007210401803185        7  20210401   \n",
       "1        KX007    2021040170340561  KX007210401803114        7  20210401   \n",
       "2        KX007    2021040170347971  KX007210401803156        7  20210401   \n",
       "3        KX007    2021040170347971  KX007210401803156        7  20210401   \n",
       "4        KX007    2021040170351281  KX007210401803186        7  20210401   \n",
       "...        ...                 ...                ...      ...       ...   \n",
       "349583   KX007    2021043084677951  KX007210430292254        7  20210430   \n",
       "349584   KX007    2021043084678511  KX007210430292358        7  20210430   \n",
       "349585   KX007  2021042571036031_1  KX007210505360800        7  20210425   \n",
       "349586   KX007  2021042571036031_2  KX007210505360801        7  20210425   \n",
       "349587   KX007  2021042571036031_3  KX007210505360802        7  20210425   \n",
       "\n",
       "        BKG_TIME   SHPR_CD   INV_AMT  ITEM_SEQ        ITEM_CD  ...  \\\n",
       "0          44352  90001542   94000.0         1   4658408144_1  ...   \n",
       "1          44407  90001341   15900.0         1     2475138283  ...   \n",
       "2          44419  90001541   31600.0         1   4802177320_1  ...   \n",
       "3          44419  90001541   31600.0         2  4802177320_10  ...   \n",
       "4          44607  90001542  198000.0         1   5329225766_1  ...   \n",
       "...          ...       ...       ...       ...            ...  ...   \n",
       "349583     92052  90001302    6600.0         1      158150256  ...   \n",
       "349584     92052  90001602   31900.0         1    657383604_1  ...   \n",
       "349585    122047  90001443       NaN         1     5176594782  ...   \n",
       "349586    122047  90001443       NaN         1     5161924242  ...   \n",
       "349587    122047  90001443       NaN         1     5161927715  ...   \n",
       "\n",
       "       DLVSUBCLSFCD     INS_ID  INS_DATE INS_TIME  POST_ZONE  SPLIT_EXEC_YN  \\\n",
       "0                4m  iNEXBatch  20210401   135628       35.0              N   \n",
       "1                 1  iNEXBatch  20210401   135628       44.0              N   \n",
       "2                 0  iNEXBatch  20210401   135628        4.0              N   \n",
       "3                 0  iNEXBatch  20210401   135628        4.0              N   \n",
       "4                 0  iNEXBatch  20210401   135628       50.0              N   \n",
       "...             ...        ...       ...      ...        ...            ...   \n",
       "349583            3  iNEXBatch  20210430   183535       13.0              N   \n",
       "349584            1  iNEXBatch  20210430   183535        1.0              N   \n",
       "349585           3t       AK04  20210504   122047       41.0              N   \n",
       "349586           3t       AK04  20210504   122047       41.0              N   \n",
       "349587           3t       AK04  20210504   122047       41.0              N   \n",
       "\n",
       "       SHPR_ADDR_1 SHPR_ADDR_2 CNEE_ADDR_1 CNEE_ADDR_2  \n",
       "0              경기도         광주시       대전광역시          서구  \n",
       "1              경기도         광주시       울산광역시          북구  \n",
       "2              경기도         광주시       서울특별시         광진구  \n",
       "3              경기도         광주시       서울특별시         광진구  \n",
       "4              경기도         광주시        경상남도         함양군  \n",
       "...            ...         ...         ...         ...  \n",
       "349583         경기도         광주시         경기도         성남시  \n",
       "349584         경기도         광주시       서울특별시         강북구  \n",
       "349585          경기         광주시       대구광역시         NaN  \n",
       "349586          경기         광주시       대구광역시         NaN  \n",
       "349587          경기         광주시       대구광역시         NaN  \n",
       "\n",
       "[349588 rows x 32 columns]"
      ]
     },
     "execution_count": 4,
     "metadata": {},
     "output_type": "execute_result"
    }
   ],
   "source": [
    "df_4"
   ]
  },
  {
   "cell_type": "code",
   "execution_count": 12,
   "metadata": {
    "ExecuteTime": {
     "end_time": "2021-10-06T13:34:05.581956Z",
     "start_time": "2021-10-06T13:34:05.534099Z"
    }
   },
   "outputs": [
    {
     "data": {
      "text/plain": [
       "KX007    349588\n",
       "Name: CORP_ID, dtype: int64"
      ]
     },
     "execution_count": 12,
     "metadata": {},
     "output_type": "execute_result"
    }
   ],
   "source": [
    "df_4['CORP_ID'].value_counts()\n"
   ]
  },
  {
   "cell_type": "code",
   "execution_count": 13,
   "metadata": {
    "ExecuteTime": {
     "end_time": "2021-10-06T13:41:19.036036Z",
     "start_time": "2021-10-06T13:36:43.056464Z"
    }
   },
   "outputs": [
    {
     "ename": "FileNotFoundError",
     "evalue": "[Errno 2] No such file or directory: './1. 이커머스 FC주문 데이터/1-3. 이커머스 FC주문 데이터_6월.xlsx'",
     "output_type": "error",
     "traceback": [
      "\u001b[1;31m---------------------------------------------------------------------------\u001b[0m",
      "\u001b[1;31mFileNotFoundError\u001b[0m                         Traceback (most recent call last)",
      "\u001b[1;32m<ipython-input-13-d7042074c35e>\u001b[0m in \u001b[0;36m<module>\u001b[1;34m\u001b[0m\n\u001b[0;32m      1\u001b[0m \u001b[0mdf_5\u001b[0m \u001b[1;33m=\u001b[0m \u001b[0mpd\u001b[0m\u001b[1;33m.\u001b[0m\u001b[0mread_excel\u001b[0m\u001b[1;33m(\u001b[0m\u001b[1;34m'./1. 이커머스 FC주문 데이터/1-3. 이커머스 FC주문 데이터_5월.xlsx'\u001b[0m\u001b[1;33m)\u001b[0m\u001b[1;33m\u001b[0m\u001b[1;33m\u001b[0m\u001b[0m\n\u001b[1;32m----> 2\u001b[1;33m \u001b[0mdf_6\u001b[0m \u001b[1;33m=\u001b[0m \u001b[0mpd\u001b[0m\u001b[1;33m.\u001b[0m\u001b[0mread_excel\u001b[0m\u001b[1;33m(\u001b[0m\u001b[1;34m'./1. 이커머스 FC주문 데이터/1-3. 이커머스 FC주문 데이터_6월.xlsx'\u001b[0m\u001b[1;33m)\u001b[0m\u001b[1;33m\u001b[0m\u001b[1;33m\u001b[0m\u001b[0m\n\u001b[0m",
      "\u001b[1;32mc:\\users\\minisong\\appdata\\local\\programs\\python\\python37\\lib\\site-packages\\pandas\\util\\_decorators.py\u001b[0m in \u001b[0;36mwrapper\u001b[1;34m(*args, **kwargs)\u001b[0m\n\u001b[0;32m    297\u001b[0m                 )\n\u001b[0;32m    298\u001b[0m                 \u001b[0mwarnings\u001b[0m\u001b[1;33m.\u001b[0m\u001b[0mwarn\u001b[0m\u001b[1;33m(\u001b[0m\u001b[0mmsg\u001b[0m\u001b[1;33m,\u001b[0m \u001b[0mFutureWarning\u001b[0m\u001b[1;33m,\u001b[0m \u001b[0mstacklevel\u001b[0m\u001b[1;33m=\u001b[0m\u001b[0mstacklevel\u001b[0m\u001b[1;33m)\u001b[0m\u001b[1;33m\u001b[0m\u001b[1;33m\u001b[0m\u001b[0m\n\u001b[1;32m--> 299\u001b[1;33m             \u001b[1;32mreturn\u001b[0m \u001b[0mfunc\u001b[0m\u001b[1;33m(\u001b[0m\u001b[1;33m*\u001b[0m\u001b[0margs\u001b[0m\u001b[1;33m,\u001b[0m \u001b[1;33m**\u001b[0m\u001b[0mkwargs\u001b[0m\u001b[1;33m)\u001b[0m\u001b[1;33m\u001b[0m\u001b[1;33m\u001b[0m\u001b[0m\n\u001b[0m\u001b[0;32m    300\u001b[0m \u001b[1;33m\u001b[0m\u001b[0m\n\u001b[0;32m    301\u001b[0m         \u001b[1;32mreturn\u001b[0m \u001b[0mwrapper\u001b[0m\u001b[1;33m\u001b[0m\u001b[1;33m\u001b[0m\u001b[0m\n",
      "\u001b[1;32mc:\\users\\minisong\\appdata\\local\\programs\\python\\python37\\lib\\site-packages\\pandas\\io\\excel\\_base.py\u001b[0m in \u001b[0;36mread_excel\u001b[1;34m(io, sheet_name, header, names, index_col, usecols, squeeze, dtype, engine, converters, true_values, false_values, skiprows, nrows, na_values, keep_default_na, na_filter, verbose, parse_dates, date_parser, thousands, comment, skipfooter, convert_float, mangle_dupe_cols, storage_options)\u001b[0m\n\u001b[0;32m    334\u001b[0m     \u001b[1;32mif\u001b[0m \u001b[1;32mnot\u001b[0m \u001b[0misinstance\u001b[0m\u001b[1;33m(\u001b[0m\u001b[0mio\u001b[0m\u001b[1;33m,\u001b[0m \u001b[0mExcelFile\u001b[0m\u001b[1;33m)\u001b[0m\u001b[1;33m:\u001b[0m\u001b[1;33m\u001b[0m\u001b[1;33m\u001b[0m\u001b[0m\n\u001b[0;32m    335\u001b[0m         \u001b[0mshould_close\u001b[0m \u001b[1;33m=\u001b[0m \u001b[1;32mTrue\u001b[0m\u001b[1;33m\u001b[0m\u001b[1;33m\u001b[0m\u001b[0m\n\u001b[1;32m--> 336\u001b[1;33m         \u001b[0mio\u001b[0m \u001b[1;33m=\u001b[0m \u001b[0mExcelFile\u001b[0m\u001b[1;33m(\u001b[0m\u001b[0mio\u001b[0m\u001b[1;33m,\u001b[0m \u001b[0mstorage_options\u001b[0m\u001b[1;33m=\u001b[0m\u001b[0mstorage_options\u001b[0m\u001b[1;33m,\u001b[0m \u001b[0mengine\u001b[0m\u001b[1;33m=\u001b[0m\u001b[0mengine\u001b[0m\u001b[1;33m)\u001b[0m\u001b[1;33m\u001b[0m\u001b[1;33m\u001b[0m\u001b[0m\n\u001b[0m\u001b[0;32m    337\u001b[0m     \u001b[1;32melif\u001b[0m \u001b[0mengine\u001b[0m \u001b[1;32mand\u001b[0m \u001b[0mengine\u001b[0m \u001b[1;33m!=\u001b[0m \u001b[0mio\u001b[0m\u001b[1;33m.\u001b[0m\u001b[0mengine\u001b[0m\u001b[1;33m:\u001b[0m\u001b[1;33m\u001b[0m\u001b[1;33m\u001b[0m\u001b[0m\n\u001b[0;32m    338\u001b[0m         raise ValueError(\n",
      "\u001b[1;32mc:\\users\\minisong\\appdata\\local\\programs\\python\\python37\\lib\\site-packages\\pandas\\io\\excel\\_base.py\u001b[0m in \u001b[0;36m__init__\u001b[1;34m(self, path_or_buffer, engine, storage_options)\u001b[0m\n\u001b[0;32m   1061\u001b[0m             \u001b[1;31m# path_or_buffer is path-like, use stringified path\u001b[0m\u001b[1;33m\u001b[0m\u001b[1;33m\u001b[0m\u001b[1;33m\u001b[0m\u001b[0m\n\u001b[0;32m   1062\u001b[0m             ext = inspect_excel_format(\n\u001b[1;32m-> 1063\u001b[1;33m                 \u001b[0mpath\u001b[0m\u001b[1;33m=\u001b[0m\u001b[0mstr\u001b[0m\u001b[1;33m(\u001b[0m\u001b[0mself\u001b[0m\u001b[1;33m.\u001b[0m\u001b[0m_io\u001b[0m\u001b[1;33m)\u001b[0m\u001b[1;33m,\u001b[0m \u001b[0mstorage_options\u001b[0m\u001b[1;33m=\u001b[0m\u001b[0mstorage_options\u001b[0m\u001b[1;33m\u001b[0m\u001b[1;33m\u001b[0m\u001b[0m\n\u001b[0m\u001b[0;32m   1064\u001b[0m             )\n\u001b[0;32m   1065\u001b[0m \u001b[1;33m\u001b[0m\u001b[0m\n",
      "\u001b[1;32mc:\\users\\minisong\\appdata\\local\\programs\\python\\python37\\lib\\site-packages\\pandas\\io\\excel\\_base.py\u001b[0m in \u001b[0;36minspect_excel_format\u001b[1;34m(path, content, storage_options)\u001b[0m\n\u001b[0;32m    937\u001b[0m \u001b[1;33m\u001b[0m\u001b[0m\n\u001b[0;32m    938\u001b[0m     with get_handle(\n\u001b[1;32m--> 939\u001b[1;33m         \u001b[0mcontent_or_path\u001b[0m\u001b[1;33m,\u001b[0m \u001b[1;34m\"rb\"\u001b[0m\u001b[1;33m,\u001b[0m \u001b[0mstorage_options\u001b[0m\u001b[1;33m=\u001b[0m\u001b[0mstorage_options\u001b[0m\u001b[1;33m,\u001b[0m \u001b[0mis_text\u001b[0m\u001b[1;33m=\u001b[0m\u001b[1;32mFalse\u001b[0m\u001b[1;33m\u001b[0m\u001b[1;33m\u001b[0m\u001b[0m\n\u001b[0m\u001b[0;32m    940\u001b[0m     ) as handle:\n\u001b[0;32m    941\u001b[0m         \u001b[0mstream\u001b[0m \u001b[1;33m=\u001b[0m \u001b[0mhandle\u001b[0m\u001b[1;33m.\u001b[0m\u001b[0mhandle\u001b[0m\u001b[1;33m\u001b[0m\u001b[1;33m\u001b[0m\u001b[0m\n",
      "\u001b[1;32mc:\\users\\minisong\\appdata\\local\\programs\\python\\python37\\lib\\site-packages\\pandas\\io\\common.py\u001b[0m in \u001b[0;36mget_handle\u001b[1;34m(path_or_buf, mode, encoding, compression, memory_map, is_text, errors, storage_options)\u001b[0m\n\u001b[0;32m    646\u001b[0m         \u001b[1;32melse\u001b[0m\u001b[1;33m:\u001b[0m\u001b[1;33m\u001b[0m\u001b[1;33m\u001b[0m\u001b[0m\n\u001b[0;32m    647\u001b[0m             \u001b[1;31m# Binary mode\u001b[0m\u001b[1;33m\u001b[0m\u001b[1;33m\u001b[0m\u001b[1;33m\u001b[0m\u001b[0m\n\u001b[1;32m--> 648\u001b[1;33m             \u001b[0mhandle\u001b[0m \u001b[1;33m=\u001b[0m \u001b[0mopen\u001b[0m\u001b[1;33m(\u001b[0m\u001b[0mhandle\u001b[0m\u001b[1;33m,\u001b[0m \u001b[0mioargs\u001b[0m\u001b[1;33m.\u001b[0m\u001b[0mmode\u001b[0m\u001b[1;33m)\u001b[0m\u001b[1;33m\u001b[0m\u001b[1;33m\u001b[0m\u001b[0m\n\u001b[0m\u001b[0;32m    649\u001b[0m         \u001b[0mhandles\u001b[0m\u001b[1;33m.\u001b[0m\u001b[0mappend\u001b[0m\u001b[1;33m(\u001b[0m\u001b[0mhandle\u001b[0m\u001b[1;33m)\u001b[0m\u001b[1;33m\u001b[0m\u001b[1;33m\u001b[0m\u001b[0m\n\u001b[0;32m    650\u001b[0m \u001b[1;33m\u001b[0m\u001b[0m\n",
      "\u001b[1;31mFileNotFoundError\u001b[0m: [Errno 2] No such file or directory: './1. 이커머스 FC주문 데이터/1-3. 이커머스 FC주문 데이터_6월.xlsx'"
     ]
    }
   ],
   "source": []
  },
  {
   "cell_type": "code",
   "execution_count": null,
   "metadata": {},
   "outputs": [],
   "source": []
  }
 ],
 "metadata": {
  "hide_input": false,
  "kernelspec": {
   "display_name": "Python 3",
   "language": "python",
   "name": "python3"
  },
  "language_info": {
   "codemirror_mode": {
    "name": "ipython",
    "version": 3
   },
   "file_extension": ".py",
   "mimetype": "text/x-python",
   "name": "python",
   "nbconvert_exporter": "python",
   "pygments_lexer": "ipython3",
   "version": "3.7.6"
  }
 },
 "nbformat": 4,
 "nbformat_minor": 4
}
